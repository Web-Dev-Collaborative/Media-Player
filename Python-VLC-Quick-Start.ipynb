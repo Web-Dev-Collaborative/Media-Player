{
 "cells": [
  {
   "cell_type": "markdown",
   "metadata": {},
   "source": [
    "# Python-VLC Quick-Start Tutorial\n",
    "This notebook presents a very high-level tutorial for using several Python-VLC classes and methods"
   ]
  },
  {
   "cell_type": "code",
   "execution_count": 1,
   "metadata": {},
   "outputs": [],
   "source": [
    "import vlc\n",
    "import pafy"
   ]
  },
  {
   "cell_type": "markdown",
   "metadata": {},
   "source": [
    "## Instance\n",
    "First, create a vlc instance that will be used to create all other media player objects"
   ]
  },
  {
   "cell_type": "code",
   "execution_count": 2,
   "metadata": {},
   "outputs": [],
   "source": [
    "instance = vlc.Instance()"
   ]
  },
  {
   "cell_type": "markdown",
   "metadata": {},
   "source": [
    "Next, initialize a new player. In this case we'll start it up already loaded with a video."
   ]
  },
  {
   "cell_type": "code",
   "execution_count": 3,
   "metadata": {},
   "outputs": [],
   "source": [
    "player = instance.media_player_new('./Tutorial-Assets/notepad.mp4')"
   ]
  },
  {
   "cell_type": "markdown",
   "metadata": {},
   "source": [
    "Use the `play` method to start playing the video"
   ]
  },
  {
   "cell_type": "code",
   "execution_count": 4,
   "metadata": {},
   "outputs": [
    {
     "data": {
      "text/plain": [
       "0"
      ]
     },
     "execution_count": 4,
     "metadata": {},
     "output_type": "execute_result"
    }
   ],
   "source": [
    "player.play()"
   ]
  },
  {
   "cell_type": "markdown",
   "metadata": {},
   "source": [
    "![](./Tutorial-Assets/vlc1.png)"
   ]
  },
  {
   "cell_type": "markdown",
   "metadata": {},
   "source": [
    "Next, you can stop the video with the `stop` method"
   ]
  },
  {
   "cell_type": "code",
   "execution_count": 5,
   "metadata": {},
   "outputs": [],
   "source": [
    "player.stop()"
   ]
  },
  {
   "cell_type": "markdown",
   "metadata": {},
   "source": [
    "## MediaPlayer methods\n",
    "```python\n",
    "player.pause()\n",
    "player.play()\n",
    "\n",
    "player.get_length()  # the duration of the video (in ms)\n",
    "player.get_time()  # the current time of the movie (in ms)\n",
    "player.get_position()  # get movie position as percentage between 0.0 and 1.0\n",
    "player.set_position()  # set movie position as percentage between 0.0 and 1.0\n",
    "\n",
    "player.audio_get_volume()  # get volume in percents (0=mute, 100=nominal)\n",
    "player.audio_set_volume()  # set volume in percents (0=mute, 100=nominal)\n",
    "player.audio_toggle_mute()  # toggle mute status\n",
    "\n",
    "player.is_playing()  # 1 if playing 0 otherwise\n",
    "player.get_state()  # get current state of player (playing, paused, etc...)\n",
    "```"
   ]
  },
  {
   "cell_type": "markdown",
   "metadata": {},
   "source": [
    "## Media\n",
    "You can deal with media objects directly. This is very helpful when you want to set the media on an existing player."
   ]
  },
  {
   "cell_type": "code",
   "execution_count": 6,
   "metadata": {},
   "outputs": [],
   "source": [
    "pysimplegui_video = instance.media_new('./videos/file-search-engine.mp4')"
   ]
  },
  {
   "cell_type": "code",
   "execution_count": 7,
   "metadata": {},
   "outputs": [],
   "source": [
    "player.set_media(pysimplegui_video)"
   ]
  },
  {
   "cell_type": "code",
   "execution_count": 8,
   "metadata": {},
   "outputs": [
    {
     "data": {
      "text/plain": [
       "0"
      ]
     },
     "execution_count": 8,
     "metadata": {},
     "output_type": "execute_result"
    }
   ],
   "source": [
    "player.play()"
   ]
  },
  {
   "cell_type": "markdown",
   "metadata": {},
   "source": [
    "![](./Tutorial-Assets/vlc2.png)"
   ]
  },
  {
   "cell_type": "code",
   "execution_count": 9,
   "metadata": {},
   "outputs": [],
   "source": [
    "player.stop()"
   ]
  },
  {
   "cell_type": "markdown",
   "metadata": {},
   "source": [
    "## List Player\n",
    "As the name suggests, this is player that handles a list of media objects. You will also need create a media list and assign the media list to the player."
   ]
  },
  {
   "cell_type": "code",
   "execution_count": 10,
   "metadata": {},
   "outputs": [],
   "source": [
    "# Create the list player\n",
    "list_player = instance.media_list_player_new()\n",
    "\n",
    "# Create the media list; this one we will instantiate with an empty list\n",
    "media_list = instance.media_list_new([])"
   ]
  },
  {
   "cell_type": "markdown",
   "metadata": {},
   "source": [
    "Next, I'm going to add several videos to my `media_list` object. You can also iterate through a directory if you have many files to load."
   ]
  },
  {
   "cell_type": "code",
   "execution_count": 11,
   "metadata": {},
   "outputs": [
    {
     "data": {
      "text/plain": [
       "0"
      ]
     },
     "execution_count": 11,
     "metadata": {},
     "output_type": "execute_result"
    }
   ],
   "source": [
    "media_list.add_media('./videos/data-logger-csv.mp4')\n",
    "media_list.add_media('./videos/file-search-engine')\n",
    "media_list.add_media('./videos/notepad.mp4')"
   ]
  },
  {
   "cell_type": "markdown",
   "metadata": {},
   "source": [
    "Finally, assign the `media_list` to the `list_player` and use the `play` method to start playing the videos."
   ]
  },
  {
   "cell_type": "code",
   "execution_count": 12,
   "metadata": {},
   "outputs": [],
   "source": [
    "# Assign the media list to the list player\n",
    "list_player.set_media_list(media_list)\n",
    "\n",
    "# Begin playback on the media list\n",
    "list_player.play()"
   ]
  },
  {
   "cell_type": "markdown",
   "metadata": {},
   "source": [
    "![](./Tutorial-Assets/vlc3.png)"
   ]
  },
  {
   "cell_type": "code",
   "execution_count": 13,
   "metadata": {},
   "outputs": [],
   "source": [
    "list_player.stop()"
   ]
  },
  {
   "cell_type": "markdown",
   "metadata": {},
   "source": [
    "## ListPlayer methods\n",
    "```python\n",
    "list_player.play()\n",
    "list_player.stop()\n",
    "list_player.pause()\n",
    "list_player.next()  # play the next item in the media list\n",
    "list_player.previous()  # play the previous item in the media list\n",
    "list_player.play_item_at_index(2)  # play a specific item by index\n",
    "\n",
    "list_player.get_state()  # state for the media list player (playing, stopped, etc...)\n",
    "list_player.is_playing()  # 1 if playing 0 otherwise\n",
    "```\n",
    "\n",
    "## MediaList methods\n",
    "```python\n",
    "media_list.remove_index(0)  # remove a specific media item by index\n",
    "media_list.count()  # a count of items in the media list\n",
    "media_list.add_media(media)  # used to add additional items to the media list\n",
    "```"
   ]
  },
  {
   "cell_type": "markdown",
   "metadata": {},
   "source": [
    "## Meta Data\n",
    "You can store various kinds of meta data within media objects. For example:"
   ]
  },
  {
   "cell_type": "code",
   "execution_count": 14,
   "metadata": {},
   "outputs": [
    {
     "data": {
      "text/plain": [
       "{0: 'Title',\n",
       " 1: 'Artist',\n",
       " 2: 'Genre',\n",
       " 3: 'Copyright',\n",
       " 4: 'Album',\n",
       " 5: 'TrackNumber',\n",
       " 6: 'Description',\n",
       " 7: 'Rating',\n",
       " 8: 'Date',\n",
       " 9: 'Setting',\n",
       " 10: 'URL',\n",
       " 11: 'Language',\n",
       " 12: 'NowPlaying',\n",
       " 13: 'Publisher',\n",
       " 14: 'EncodedBy',\n",
       " 15: 'ArtworkURL',\n",
       " 16: 'TrackID',\n",
       " 17: 'TrackTotal',\n",
       " 18: 'Director',\n",
       " 19: 'Season',\n",
       " 20: 'Episode',\n",
       " 21: 'ShowName',\n",
       " 22: 'Actors',\n",
       " 23: 'AlbumArtist',\n",
       " 24: 'DiscNumber',\n",
       " 25: 'DiscTotal'}"
      ]
     },
     "execution_count": 14,
     "metadata": {},
     "output_type": "execute_result"
    }
   ],
   "source": [
    "vlc.Meta._enum_names_"
   ]
  },
  {
   "cell_type": "markdown",
   "metadata": {},
   "source": [
    "As an example, I will add meta data to the 3 videos that are current in the media_list. I can access each media item by index, and then use the `set_meta` method to store the meta data using the keys in the dictionary printed above."
   ]
  },
  {
   "cell_type": "code",
   "execution_count": 15,
   "metadata": {},
   "outputs": [],
   "source": [
    "# Set the meta data for video #1\n",
    "media_list[0].set_meta(0, 'Build a CSV Data Logger for Raspberry Pi') # Title\n",
    "media_list[0].set_meta(1, 'Israel Dryer') # Author\n",
    "\n",
    "# Set the meta data for video #2\n",
    "media_list[1].set_meta(0, 'How to build a file search engine with PySimpleGUI') # Title\n",
    "media_list[1].set_meta(1, 'Israel Dryer') # Author\n",
    "\n",
    "# Set the meta data for video #3\n",
    "media_list[2].set_meta(0, 'How to build a Notepad with PySimpleGUI') # Title\n",
    "media_list[2].set_meta(1, 'Israel Dryer') # Author"
   ]
  },
  {
   "cell_type": "markdown",
   "metadata": {},
   "source": [
    "Now that the meta data is saved, I can access it as needed with the `get_meta` method."
   ]
  },
  {
   "cell_type": "code",
   "execution_count": 16,
   "metadata": {},
   "outputs": [
    {
     "name": "stdout",
     "output_type": "stream",
     "text": [
      "Title: Build a CSV Data Logger for Raspberry Pi\n",
      "Author: Israel Dryer\n",
      "\n",
      "Title: How to build a file search engine with PySimpleGUI\n",
      "Author: Israel Dryer\n",
      "\n",
      "Title: How to build a Notepad with PySimpleGUI\n",
      "Author: Israel Dryer\n",
      "\n"
     ]
    }
   ],
   "source": [
    "for video in media_list:\n",
    "    print('Title:', video.get_meta(0))\n",
    "    print('Author:', video.get_meta(1))   \n",
    "    print()"
   ]
  },
  {
   "cell_type": "markdown",
   "metadata": {},
   "source": [
    "## The typical build order\n",
    "There are a lot of different ways to create media players, media, instances, etc... However, the recommended order for building these objects is as follows:\n",
    "- instance\n",
    "- media_list_player\n",
    "- media_list\n",
    "- media_player\n",
    "\n",
    "You might be suprised by the last item, but you can actually get a media_player object from the media_list player, as it is what is playing the items in the list_player. The list player gives you a certain amount of control over the media, however, the player gives you a little more power to control things such as volume, position, etc... of the items currently being played.\n",
    "\n",
    "For example, if you want to get the meta data for the media that is currently playing in the media player you could get it as follows:"
   ]
  },
  {
   "cell_type": "code",
   "execution_count": 17,
   "metadata": {},
   "outputs": [
    {
     "name": "stdout",
     "output_type": "stream",
     "text": [
      "Title: Build a CSV Data Logger for Raspberry Pi\n",
      "Author: Israel Dryer\n"
     ]
    }
   ],
   "source": [
    "# Get the media player that is playing the media for the list player\n",
    "media_player = list_player.get_media_player()\n",
    "\n",
    "# Get the current media loaded on the media player\n",
    "curr_video = media_player.get_media()\n",
    "\n",
    "# Retrieve the meta data from the current video\n",
    "print('Title:', curr_video.get_meta(0))\n",
    "print('Author:', curr_video.get_meta(1))"
   ]
  },
  {
   "cell_type": "markdown",
   "metadata": {},
   "source": [
    "## Streaming & Online Media (ie. YouTube)\n",
    "In order to play streaming or online media with your VLC Player, you'll need to leverage another library called **Pafy**. The process is really no different except Pafy will give you access to the real location of the video online, as well as providing access to meta data without having to do a lot of extra work... especially if you're using YouTube videos."
   ]
  },
  {
   "cell_type": "markdown",
   "metadata": {},
   "source": [
    "First, create a pafy object with the url that you want to play"
   ]
  },
  {
   "cell_type": "code",
   "execution_count": 18,
   "metadata": {},
   "outputs": [],
   "source": [
    "yt_vid = pafy.new(\"https://www.youtube.com/watch?v=yMBm6cMg-ZA\")"
   ]
  },
  {
   "cell_type": "markdown",
   "metadata": {},
   "source": [
    "The pafy object contains all kinds of useful methods and data. I'll let you [check that out in their documentation](https://pythonhosted.org/Pafy/?source=post_page-----cd4574354d8e----------------------#), but I'll show you a few examples here to get you started."
   ]
  },
  {
   "cell_type": "code",
   "execution_count": 19,
   "metadata": {},
   "outputs": [],
   "source": [
    "author = yt_vid.author\n",
    "title = yt_vid.title\n",
    "desc = yt_vid.description"
   ]
  },
  {
   "cell_type": "code",
   "execution_count": 20,
   "metadata": {},
   "outputs": [
    {
     "name": "stdout",
     "output_type": "stream",
     "text": [
      "ESPN\n",
      "Stephen A. and Max react to Patrick Mahomes taking the Chiefs to the Super Bowl | First Take\n",
      "Max Kellerman, Stephen A. Smith and Dan Orlovsky weigh in on Kansas City QB Patrick Mahomes’ success this season and react to the Chiefs heading to the Super Bowl LIV after defeating the San Francisco 49ers 35-24 in the AFC Championship game.\n",
      "#FirstTake #NFL\n",
      "✔ Subscribe to ESPN+ https://plus.espn.com/\n",
      "✔ Get the ESPN App: http://www.espn.com/espn/apps/espn\n",
      "✔ Subscribe to ESPN on YouTube: http://es.pn/SUBSCRIBEtoYOUTUBE\n",
      "✔ Subscribe to ESPN FC on YouTube: http://bit.ly/SUBSCRIBEtoESPNFC\n",
      "✔ Subscribe to NBA on ESPN on YouTube: http://bit.ly/SUBSCRIBEtoNBAonESPN\n",
      "✔ Watch ESPN on YouTube TV: http://es.pn/YouTubeTV\n",
      "\n",
      "Exclusive interviews with Rachel Nichols https://urlzs.com/jNURe\n",
      "Stephen A. Smith on ESPN https://urlzs.com/W19Tz\n",
      "\n",
      "ESPN on Social Media:\n",
      "► Follow on Twitter: http://www.twitter.com/espn\n",
      "► Like on Facebook: http://www.facebook.com/espn\n",
      "► Follow on Instagram: www.instagram.com/f/espn\n",
      "\n",
      "Visit ESPN on YouTube to get up-to-the-minute sports news coverage, scores, highlights and commentary for NFL, NHL, MLB, NBA, College Football, NCAA Basketball, soccer and more. \n",
      "\n",
      "More on ESPN.com: https://www.espn.com\n",
      "\n"
     ]
    }
   ],
   "source": [
    "print(author)\n",
    "print(title)\n",
    "print(desc)\n",
    "print()"
   ]
  },
  {
   "cell_type": "markdown",
   "metadata": {},
   "source": [
    "To play the video, you'll need to add the media from the real url provided by the `getbest` method"
   ]
  },
  {
   "cell_type": "code",
   "execution_count": 21,
   "metadata": {},
   "outputs": [
    {
     "data": {
      "text/plain": [
       "0"
      ]
     },
     "execution_count": 21,
     "metadata": {},
     "output_type": "execute_result"
    }
   ],
   "source": [
    "# Get the location of the video\n",
    "vid_url = yt_vid.getbest().url\n",
    "\n",
    "# Create a new media instance\n",
    "new_vid = instance.media_new(vid_url)\n",
    "\n",
    "# Add meta data to the video object\n",
    "new_vid.set_meta(0, title)\n",
    "new_vid.set_meta(1, author)\n",
    "new_vid.set_meta(6, desc)\n",
    "new_vid.set_meta(10, vid_url)\n",
    "\n",
    "# Add the video to the media list\n",
    "media_list.add_media(new_vid)"
   ]
  },
  {
   "cell_type": "markdown",
   "metadata": {},
   "source": [
    "Now that I've added this video to the media_list I can play it by index... since it is the 4th item in the list, I can use the `play_item_at_index` method"
   ]
  },
  {
   "cell_type": "code",
   "execution_count": 22,
   "metadata": {},
   "outputs": [
    {
     "data": {
      "text/plain": [
       "0"
      ]
     },
     "execution_count": 22,
     "metadata": {},
     "output_type": "execute_result"
    }
   ],
   "source": [
    "list_player.play_item_at_index(3)"
   ]
  },
  {
   "cell_type": "markdown",
   "metadata": {},
   "source": [
    "![](./Tutorial-Assets/vlc4.png)"
   ]
  },
  {
   "cell_type": "code",
   "execution_count": 23,
   "metadata": {},
   "outputs": [],
   "source": [
    "list_player.stop()"
   ]
  },
  {
   "cell_type": "markdown",
   "metadata": {},
   "source": [
    "### References\n",
    "- [VLC Documentation](https://www.olivieraubert.net/vlc/python-ctypes/doc/)\n",
    "- [Pafy Documentation](https://pythonhosted.org/Pafy/?source=post_page-----cd4574354d8e----------------------)"
   ]
  }
 ],
 "metadata": {
  "kernelspec": {
   "display_name": "Python 3",
   "language": "python",
   "name": "python3"
  },
  "language_info": {
   "codemirror_mode": {
    "name": "ipython",
    "version": 3
   },
   "file_extension": ".py",
   "mimetype": "text/x-python",
   "name": "python",
   "nbconvert_exporter": "python",
   "pygments_lexer": "ipython3",
   "version": "3.7.5"
  }
 },
 "nbformat": 4,
 "nbformat_minor": 4
}
