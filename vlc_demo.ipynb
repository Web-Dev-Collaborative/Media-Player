{
 "nbformat": 4,
 "nbformat_minor": 2,
 "metadata": {
  "language_info": {
   "name": "python",
   "codemirror_mode": {
    "name": "ipython",
    "version": 3
   }
  },
  "orig_nbformat": 2,
  "file_extension": ".py",
  "mimetype": "text/x-python",
  "name": "python",
  "npconvert_exporter": "python",
  "pygments_lexer": "ipython3",
  "version": 3
 },
 "cells": [
  {
   "cell_type": "markdown",
   "execution_count": null,
   "metadata": {},
   "outputs": [],
   "source": [
    "# Demonstrating select functionality of VLC"
   ]
  },
  {
   "cell_type": "code",
   "execution_count": 1,
   "metadata": {},
   "outputs": [],
   "source": [
    "import vlc"
   ]
  },
  {
   "cell_type": "code",
   "execution_count": 2,
   "metadata": {},
   "outputs": [],
   "source": [
    "# create an instance object\n",
    "instance = vlc.Instance()\n",
    "\n",
    "# create a list player\n",
    "list_player = instance.media_list_player_new()\n",
    "\n",
    "# create a new media list\n",
    "media_list = instance.media_list_new()\n",
    "\n",
    "# assign media list to list player\n",
    "list_player.set_media_list(media_list)"
   ]
  },
  {
   "cell_type": "code",
   "execution_count": 3,
   "metadata": {},
   "outputs": [],
   "source": [
    "def new_media(media_list, artist, title, url):\n",
    "    \"\"\" create new media instance and add meta data \"\"\"\n",
    "    media = instance.media_new(url)\n",
    "    media.set_meta(0, title)\n",
    "    media.set_meta(1, artist)\n",
    "    media.set_meta(10, url)\n",
    "    media.save_meta()\n",
    "    media_list.add_media(media)"
   ]
  },
  {
   "cell_type": "code",
   "execution_count": 4,
   "metadata": {},
   "outputs": [
    {
     "name": "stdout",
     "output_type": "stream",
     "text": "{0: 'Title', 1: 'Artist', 2: 'Genre', 3: 'Copyright', 4: 'Album', 5: 'TrackNumber', 6: 'Description', 7: 'Rating', 8: 'Date', 9: 'Setting', 10: 'URL', 11: 'Language', 12: 'NowPlaying', 13: 'Publisher', 14: 'EncodedBy', 15: 'ArtworkURL', 16: 'TrackID', 17: 'TrackTotal', 18: 'Director', 19: 'Season', 20: 'Episode', 21: 'ShowName', 22: 'Actors', 23: 'AlbumArtist', 24: 'DiscNumber', 25: 'DiscTotal'}\n"
    }
   ],
   "source": [
    "# options for setting meta data\n",
    "print(vlc.Meta._enum_names_)"
   ]
  },
  {
   "cell_type": "code",
   "execution_count": 5,
   "metadata": {},
   "outputs": [],
   "source": [
    "# create new media items, including meta data (see vlc.Meta._enum_names_)\n",
    "new_media( media_list,\n",
    "    \"SB Nation\", \n",
    "    \"Antonio Brown's beef with Ben Roethlisberger was heated, sudden, and so avoidable\",\n",
    "    \"https://www.youtube.com/watch?v=iVn37ndpkIc\")\n",
    "    \n",
    "new_media( media_list,\n",
    "    \"SB Nation\", \n",
    "    \"Antonio Brown's beef with Ben Roethlisberger was heated, sudden, and so avoidable\",\n",
    "    \"https://www.youtube.com/watch?v=iVn37ndpkIc\")\n",
    "\n",
    "new_media( media_list,\n",
    "    \"SB Nation\",\n",
    "    \"Chris Webber’s ongoing beef with Jalen Rose has kept Michigan’s legendary “Fab Five” from reuniting\",\n",
    "    \"https://www.youtube.com/watch?v=O4FE3tWuecM\")\n",
    "\n",
    "new_media( media_list,\n",
    "    \"The Pat McAfee Show\",\n",
    "    \"the time I got flashbanged...\",\n",
    "    \"https://www.youtube.com/watch?v=2wduBpjfc7E\")"
   ]
  },
  {
   "cell_type": "code",
   "execution_count": 6,
   "metadata": {},
   "outputs": [
    {
     "data": {
      "text/plain": "4"
     },
     "execution_count": 6,
     "metadata": {},
     "output_type": "execute_result"
    }
   ],
   "source": [
    "# count the number of media in the list\n",
    "media_list.count()"
   ]
  },
  {
   "cell_type": "code",
   "execution_count": 7,
   "metadata": {},
   "outputs": [],
   "source": [
    "# start playing media\n",
    "list_player.play()"
   ]
  },
  {
   "cell_type": "code",
   "execution_count": 8,
   "metadata": {},
   "outputs": [
    {
     "name": "stdout",
     "output_type": "stream",
     "text": "Title: Antonio Brown's beef with Ben Roethlisberger was heated, sudden, and so avoidable\nArtist: None\nUrl: https://www.youtube.com/watch?v=iVn37ndpkIc\n"
    }
   ],
   "source": [
    "# get the player instance used for the list player\n",
    "player = list_player.get_media_player()\n",
    "\n",
    "# get info about the currently playing media\n",
    "current_media = player.get_media()\n",
    "print('Title:', current_media.get_meta(0))\n",
    "print('Artist:', current_media.get_meta(1))\n",
    "print('Url:', current_media.get_meta(10))"
   ]
  },
  {
   "cell_type": "code",
   "execution_count": 9,
   "metadata": {},
   "outputs": [
    {
     "name": "stdout",
     "output_type": "stream",
     "text": "Track 0 Antonio Brown's beef with Ben Roethlisberger was heated, sudden, and so avoidable\nTrack 1 Antonio Brown's beef with Ben Roethlisberger was heated, sudden, and so avoidable\nTrack 2 Chris Webber’s ongoing beef with Jalen Rose has kept Michigan’s legendary “Fab Five” from reuniting\nTrack 3 the time I got flashbanged...\n"
    }
   ],
   "source": [
    "# navigate the media list like a standard python list\n",
    "for i, media in enumerate(media_list):\n",
    "    print('Track', i, media.get_meta(0))"
   ]
  },
  {
   "cell_type": "code",
   "execution_count": 10,
   "metadata": {},
   "outputs": [
    {
     "data": {
      "text/plain": "0"
     },
     "execution_count": 10,
     "metadata": {},
     "output_type": "execute_result"
    }
   ],
   "source": [
    "# remove items from the list by index\n",
    "media_list.remove_index(0)"
   ]
  },
  {
   "cell_type": "code",
   "execution_count": 11,
   "metadata": {},
   "outputs": [
    {
     "data": {
      "text/plain": "0"
     },
     "execution_count": 11,
     "metadata": {},
     "output_type": "execute_result"
    }
   ],
   "source": [
    "# play, stop, pause, next, previous\n",
    "list_player.stop()\n",
    "list_player.play()\n",
    "list_player.pause()\n",
    "list_player.next()\n",
    "list_player.previous()"
   ]
  },
  {
   "cell_type": "code",
   "execution_count": 12,
   "metadata": {},
   "outputs": [
    {
     "data": {
      "text/plain": "0"
     },
     "execution_count": 12,
     "metadata": {},
     "output_type": "execute_result"
    }
   ],
   "source": [
    "# play a specific track by index\n",
    "list_player.play_item_at_index(2)"
   ]
  },
  {
   "cell_type": "code",
   "execution_count": 13,
   "metadata": {},
   "outputs": [
    {
     "name": "stdout",
     "output_type": "stream",
     "text": "length: (ms) 690260\ntime: (ms) 73653\nposition: (%) 0.10670334100723267\nis_playing: (bool) 1\nvolume: 50\ncurrent track: 0\n"
    }
   ],
   "source": [
    "# get all kinds of useful information from player\n",
    "print('length: (ms)', player.get_length())\n",
    "print('time: (ms)', player.get_time())\n",
    "print('position: (%)', player.get_position())\n",
    "print('is_playing: (bool)', player.is_playing())\n",
    "print('volume:', player.audio_get_volume())\n",
    "print('current track:', player.video_get_track())"
   ]
  },
  {
   "cell_type": "code",
   "execution_count": 14,
   "metadata": {},
   "outputs": [],
   "source": [
    "# adjust volume and toggle mute\n",
    "player.audio_set_volume(50)\n",
    "player.audio_toggle_mute()"
   ]
  },
  {
   "cell_type": "code",
   "execution_count": 15,
   "metadata": {},
   "outputs": [],
   "source": [
    "# unmute\n",
    "player.audio_toggle_mute()"
   ]
  },
  {
   "cell_type": "code",
   "execution_count": 16,
   "metadata": {},
   "outputs": [],
   "source": [
    "# set the position (%) of the player\n",
    "player.set_position(0.7) # set to 50% of length"
   ]
  },
  {
   "cell_type": "code",
   "execution_count": 17,
   "metadata": {},
   "outputs": [],
   "source": [
    "player.stop()"
   ]
  }
 ]
}