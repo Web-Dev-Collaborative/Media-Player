{
 "nbformat": 4,
 "nbformat_minor": 2,
 "metadata": {
  "language_info": {
   "name": "python",
   "codemirror_mode": {
    "name": "ipython",
    "version": 3
   }
  },
  "orig_nbformat": 2,
  "file_extension": ".py",
  "mimetype": "text/x-python",
  "name": "python",
  "npconvert_exporter": "python",
  "pygments_lexer": "ipython3",
  "version": 3
 },
 "cells": [
  {
   "cell_type": "markdown",
   "execution_count": null,
   "metadata": {},
   "outputs": [],
   "source": [
    "# Demonstrating select functionality of VLC"
   ]
  },
  {
   "cell_type": "code",
   "execution_count": 1,
   "metadata": {},
   "outputs": [],
   "source": [
    "import vlc"
   ]
  },
  {
   "cell_type": "code",
   "execution_count": 2,
   "metadata": {},
   "outputs": [],
   "source": [
    "# create an instance object\n",
    "instance = vlc.Instance()"
   ]
  },
  {
   "cell_type": "code",
   "execution_count": 3,
   "metadata": {},
   "outputs": [],
   "source": [
    "# create a list player\n",
    "list_player = instance.media_list_player_new()"
   ]
  },
  {
   "cell_type": "code",
   "execution_count": 4,
   "metadata": {},
   "outputs": [],
   "source": [
    "# create a new media list\n",
    "media_list = instance.media_list_new()"
   ]
  },
  {
   "cell_type": "code",
   "execution_count": 5,
   "metadata": {},
   "outputs": [],
   "source": [
    "# assign media list to list player\n",
    "list_player.set_media_list(media_list)"
   ]
  },
  {
   "cell_type": "code",
   "execution_count": 6,
   "metadata": {},
   "outputs": [
    {
     "data": {
      "text/plain": "4"
     },
     "execution_count": 6,
     "metadata": {},
     "output_type": "execute_result"
    }
   ],
   "source": [
    "# add items to the media list\n",
    "media_list.add_media('https://www.youtube.com/watch?v=iVn37ndpkIc')\n",
    "media_list.add_media('https://www.youtube.com/watch?v=O4FE3tWuecM')\n",
    "media_list.add_media('https://www.youtube.com/watch?v=2wduBpjfc7E')\n",
    "media_list.add_media('https://www.youtube.com/watch?v=UZ4L3-is6p0')\n",
    "\n",
    "# count the number of items in the list\n",
    "media_list.count()"
   ]
  },
  {
   "cell_type": "code",
   "execution_count": 7,
   "metadata": {},
   "outputs": [],
   "source": [
    "# start playing media\n",
    "list_player.play()"
   ]
  },
  {
   "cell_type": "code",
   "execution_count": 8,
   "metadata": {},
   "outputs": [
    {
     "name": "stdout",
     "output_type": "stream",
     "text": "Track 0 https://www.youtube.com/watch?v=iVn37ndpkIc\nTrack 1 https://www.youtube.com/watch?v=O4FE3tWuecM\nTrack 2 https://www.youtube.com/watch?v=2wduBpjfc7E\nTrack 3 https://www.youtube.com/watch?v=UZ4L3-is6p0\n"
    }
   ],
   "source": [
    "# navigate the media list like a standard python list\n",
    "for i, track in enumerate(media_list):\n",
    "    print('Track', i, track.get_mrl())"
   ]
  },
  {
   "cell_type": "code",
   "execution_count": 9,
   "metadata": {},
   "outputs": [
    {
     "data": {
      "text/plain": "0"
     },
     "execution_count": 9,
     "metadata": {},
     "output_type": "execute_result"
    }
   ],
   "source": [
    "# remove items from the list by index\n",
    "media_list.remove_index(3)"
   ]
  },
  {
   "cell_type": "code",
   "execution_count": 10,
   "metadata": {},
   "outputs": [
    {
     "data": {
      "text/plain": "0"
     },
     "execution_count": 10,
     "metadata": {},
     "output_type": "execute_result"
    }
   ],
   "source": [
    "# play, stop, pause, next, previous\n",
    "list_player.stop()\n",
    "list_player.play()\n",
    "list_player.pause()\n",
    "list_player.next()\n",
    "list_player.previous()"
   ]
  },
  {
   "cell_type": "code",
   "execution_count": 11,
   "metadata": {},
   "outputs": [
    {
     "data": {
      "text/plain": "0"
     },
     "execution_count": 11,
     "metadata": {},
     "output_type": "execute_result"
    }
   ],
   "source": [
    "# play a specific track by index\n",
    "list_player.play_item_at_index(2)"
   ]
  },
  {
   "cell_type": "code",
   "execution_count": 13,
   "metadata": {},
   "outputs": [],
   "source": [
    "# get the media player object within the list player\n",
    "player = list_player.get_media_player()"
   ]
  },
  {
   "cell_type": "code",
   "execution_count": 14,
   "metadata": {},
   "outputs": [
    {
     "name": "stdout",
     "output_type": "stream",
     "text": "length: (ms) 690260\ntime: (ms) 8153\nposition: (%) 0.011811498552560806\nis_playing: (bool) 1\nvolume: 50\ncurrent track: 0\n"
    }
   ],
   "source": [
    "# get all kinds of useful information\n",
    "print('length: (ms)', player.get_length())\n",
    "print('time: (ms)', player.get_time())\n",
    "print('position: (%)', player.get_position())\n",
    "print('is_playing: (bool)', player.is_playing())\n",
    "print('volume:', player.audio_get_volume())\n",
    "print('current track:', player.video_get_track())"
   ]
  },
  {
   "cell_type": "code",
   "execution_count": 15,
   "metadata": {},
   "outputs": [],
   "source": [
    "# adjust volume and toggle mute\n",
    "player.audio_set_volume(50)\n",
    "player.audio_toggle_mute()"
   ]
  },
  {
   "cell_type": "code",
   "execution_count": 16,
   "metadata": {},
   "outputs": [],
   "source": [
    "# unmute\n",
    "player.audio_toggle_mute()"
   ]
  },
  {
   "cell_type": "code",
   "execution_count": 17,
   "metadata": {},
   "outputs": [],
   "source": [
    "# set the position (%) of the player\n",
    "player.set_position(0.7) # set to 50% of length"
   ]
  }
 ]
}